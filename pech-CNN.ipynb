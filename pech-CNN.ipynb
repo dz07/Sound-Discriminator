{
 "cells": [
  {
   "cell_type": "code",
   "execution_count": 6,
   "metadata": {},
   "outputs": [],
   "source": [
    "import pandas as pd\n",
    "from keras.models import Sequential\n",
    "from keras.utils import np_utils as utils\n",
    "from keras.layers import Dropout, Dense, Flatten\n",
    "from keras.layers.convolutional import Conv2D, MaxPooling2D\n",
    "from tensorflow.keras.utils import to_categorical\n",
    "import keras\n",
    "import numpy as np\n",
    "import matplotlib.pyplot as plt\n",
    "from sklearn.metrics import confusion_matrix\n",
    "from sklearn.metrics import  f1_score, roc_auc_score, roc_curve"
   ]
  },
  {
   "cell_type": "code",
   "execution_count": 7,
   "metadata": {},
   "outputs": [],
   "source": [
    "# Loading object 1\n",
    "s = ['side1-0.5.csv', 'side1-0.8.csv', 'side1-1.2m.csv', 'side1-1.6.csv', 'side2-0.5.csv', 'side2-0.8.csv', 'side2-1.2.csv', 'side2-1.6.csv']\n",
    "\n",
    "c = pd.read_csv('object1/'+s[0])\n",
    "c2 = pd.read_csv('object1/'+s[1])\n",
    "c3 = pd.read_csv('object1/'+s[2])\n",
    "c4 = pd.read_csv('object1/'+s[3])\n",
    "c5 = pd.read_csv('object1/'+s[4])\n",
    "c6 = pd.read_csv('object1/'+s[5])\n",
    "c7 = pd.read_csv('object1/'+s[6])\n",
    "c8 = pd.read_csv('object1/'+s[7])"
   ]
  },
  {
   "cell_type": "code",
   "execution_count": 8,
   "metadata": {},
   "outputs": [],
   "source": [
    "# Loading object 2\n",
    "s = ['front-black-1.csv', 'front-black-1.2.csv','front-black0.5.csv','front-yellow-1.2.csv', 'front-yellow-1.csv','front-yellow0.5.csv',\n",
    "     'frontblack-0.8.csv','frontblack-1.5.csv', 'frontblack-1.6.csv', 'frontyellow-0.8.csv','frontyellow-1.6.csv',]\n",
    "\n",
    "o = pd.read_csv('object2/'+s[0])\n",
    "o2 = pd.read_csv('object2/'+s[1])\n",
    "o3 = pd.read_csv('object2/'+s[2])\n",
    "o4 = pd.read_csv('object2/'+s[3])\n",
    "o5 = pd.read_csv('object2/'+s[4])\n",
    "o6 = pd.read_csv('object2/'+s[5])\n",
    "o7 = pd.read_csv('object2/'+s[6])\n",
    "o8 = pd.read_csv('object2/'+s[7])\n",
    "o9 = pd.read_csv('object2/'+s[8])\n",
    "o10 = pd.read_csv('object2/'+s[9])\n",
    "o11 = pd.read_csv('object2/'+s[10])"
   ]
  },
  {
   "cell_type": "code",
   "execution_count": 9,
   "metadata": {},
   "outputs": [
    {
     "data": {
      "text/plain": [
       "(114,)"
      ]
     },
     "execution_count": 9,
     "metadata": {},
     "output_type": "execute_result"
    }
   ],
   "source": [
    "#Prepairing training set !!! test_data %20\n",
    "\n",
    "\n",
    "#label 0 in y\n",
    "dtr1 = c[c.columns[24:30]] \n",
    "dtr2 = c2[c2.columns[24:30]] \n",
    "dtr3 = c3[c3.columns[24:30]] \n",
    "dtr4 = c4[c4.columns[24:30]] \n",
    "dtr5 = c5[c5.columns[24:30]] \n",
    "dtr6 = c6[c6.columns[24:30]]  \n",
    "dtr7 = c7[c7.columns[24:30]]  \n",
    "dtr8 = c8[c8.columns[24:30]] \n",
    "\n",
    "#label 1 in y\n",
    "dt1 = o[o.columns[24:30]]  \n",
    "dt2 = o2[o2.columns[24:30]] \n",
    "dt3 = o3[o3.columns[24:30]] \n",
    "dt4 = o4[o4.columns[24:30]] \n",
    "dt5 = o5[o5.columns[24:30]]  \n",
    "dt6 = o6[o6.columns[24:30]] \n",
    "dt7 = o7[o7.columns[24:30]] \n",
    "dt8 = o8[o8.columns[24:30]] \n",
    "dt9 = o9[o9.columns[24:30]]  \n",
    "dt10 = o10[o10.columns[24:30]] \n",
    "dt11 = o11[o11.columns[24:30]] \n",
    "\n",
    "dy_test = [0]* 48 +[1] * 66\n",
    "dy_test = np.asarray(dy_test)\n",
    "\n",
    "d_test = pd.concat([dtr1, dtr2, dtr3, dtr4, dtr5, dtr6, dtr7, dtr8, dt1, dt2, dt3, dt4, dt5, dt6, dt7, dt8, dt9, dt10, dt11], axis=1, join='inner') \n",
    "dy_test.shape\n"
   ]
  },
  {
   "cell_type": "code",
   "execution_count": 10,
   "metadata": {},
   "outputs": [
    {
     "data": {
      "text/plain": [
       "(114,)"
      ]
     },
     "execution_count": 10,
     "metadata": {},
     "output_type": "execute_result"
    }
   ],
   "source": [
    "#Prepairing training set !!! Validation_data %20\n",
    "\n",
    "dtr1 = c[c.columns[18:24]] \n",
    "dtr2 = c2[c2.columns[18:24]] \n",
    "dtr3 = c3[c3.columns[18:24]] \n",
    "dtr4 = c4[c4.columns[18:24]] \n",
    "dtr5 = c5[c5.columns[18:24]] \n",
    "dtr6 = c6[c6.columns[18:24]] \n",
    "dtr7 = c7[c7.columns[18:24]] \n",
    "dtr8 = c8[c8.columns[18:24]] \n",
    "\n",
    "dt1 = o[o.columns[18:24]] \n",
    "dt2 = o2[o2.columns[18:24]] \n",
    "dt3 = o3[o3.columns[18:24]] \n",
    "dt4 = o4[o4.columns[18:24]] \n",
    "dt5 = o5[o5.columns[18:24]] \n",
    "dt6 = o6[o6.columns[18:24]] \n",
    "dt7 = o7[o7.columns[18:24]] \n",
    "dt8 = o8[o8.columns[18:24]] \n",
    "dt9 = o9[o9.columns[18:24]] \n",
    "dt10 = o10[o10.columns[18:24]] \n",
    "dt11 = o11[o11.columns[18:24]] \n",
    "\n",
    "dy_val = [0]* 48 +[1] * 66\n",
    "dy_val = np.asarray(dy_val)\n",
    "\n",
    "d_val = pd.concat([dtr1, dtr2, dtr3, dtr4, dtr5, dtr6, dtr7, dtr8, dt1, dt2, dt3, dt4, dt5, dt6, dt7, dt8, dt9, dt10, dt11], axis=1, join='inner') \n",
    "dy_val.shape\n"
   ]
  },
  {
   "cell_type": "code",
   "execution_count": 11,
   "metadata": {},
   "outputs": [
    {
     "data": {
      "text/plain": [
       "(342,)"
      ]
     },
     "execution_count": 11,
     "metadata": {},
     "output_type": "execute_result"
    }
   ],
   "source": [
    "#Prepairing training set !!! train_data %60\n",
    "\n",
    "dtr1 = c[c.columns[:18]] \n",
    "dtr2 = c2[c2.columns[:18]] \n",
    "dtr3 = c3[c3.columns[:18]] \n",
    "dtr4 = c4[c4.columns[:18]] \n",
    "dtr5 = c5[c5.columns[:18]] \n",
    "dtr6 = c6[c6.columns[:18]] \n",
    "dtr7 = c7[c7.columns[:18]] \n",
    "dtr8 = c8[c8.columns[:18]] \n",
    "\n",
    "dt1 = o[o.columns[:18]] \n",
    "dt2 = o2[o2.columns[:18]] \n",
    "dt3 = o3[o3.columns[:18]] \n",
    "dt4 = o4[o4.columns[:18]] \n",
    "dt5 = o5[o5.columns[:18]] \n",
    "dt6 = o6[o6.columns[:18]] \n",
    "dt7 = o7[o7.columns[:18]] \n",
    "dt8 = o8[o8.columns[:18]] \n",
    "dt9 = o9[o9.columns[:18]] \n",
    "dt10 = o10[o10.columns[:18]] \n",
    "dt11 = o11[o11.columns[:18]] \n",
    "\n",
    "dy_tr = [0]* 144 +[1] * 198\n",
    "dy_tr = np.asarray(dy_tr)\n",
    "\n",
    "d_train = pd.concat([dtr1, dtr2, dtr3, dtr4, dtr5, dtr6, dtr7, dtr8, dt1, dt2, dt3, dt4, dt5, dt6, dt7, dt8, dt9, dt10, dt11], axis=1, join='inner') \n",
    "dy_tr.shape\n"
   ]
  },
  {
   "cell_type": "code",
   "execution_count": 12,
   "metadata": {},
   "outputs": [
    {
     "data": {
      "text/plain": [
       "array([[1., 0.],\n",
       "       [1., 0.],\n",
       "       [1., 0.],\n",
       "       [1., 0.],\n",
       "       [1., 0.],\n",
       "       [1., 0.],\n",
       "       [1., 0.],\n",
       "       [1., 0.],\n",
       "       [1., 0.],\n",
       "       [1., 0.],\n",
       "       [1., 0.],\n",
       "       [1., 0.],\n",
       "       [1., 0.],\n",
       "       [1., 0.],\n",
       "       [1., 0.],\n",
       "       [1., 0.],\n",
       "       [1., 0.],\n",
       "       [1., 0.],\n",
       "       [1., 0.],\n",
       "       [1., 0.],\n",
       "       [1., 0.],\n",
       "       [1., 0.],\n",
       "       [1., 0.],\n",
       "       [1., 0.],\n",
       "       [1., 0.],\n",
       "       [1., 0.],\n",
       "       [1., 0.],\n",
       "       [1., 0.],\n",
       "       [1., 0.],\n",
       "       [1., 0.],\n",
       "       [1., 0.],\n",
       "       [1., 0.],\n",
       "       [1., 0.],\n",
       "       [1., 0.],\n",
       "       [1., 0.],\n",
       "       [1., 0.],\n",
       "       [1., 0.],\n",
       "       [1., 0.],\n",
       "       [1., 0.],\n",
       "       [1., 0.],\n",
       "       [1., 0.],\n",
       "       [1., 0.],\n",
       "       [1., 0.],\n",
       "       [1., 0.],\n",
       "       [1., 0.],\n",
       "       [1., 0.],\n",
       "       [1., 0.],\n",
       "       [1., 0.],\n",
       "       [0., 1.],\n",
       "       [0., 1.],\n",
       "       [0., 1.],\n",
       "       [0., 1.],\n",
       "       [0., 1.],\n",
       "       [0., 1.],\n",
       "       [0., 1.],\n",
       "       [0., 1.],\n",
       "       [0., 1.],\n",
       "       [0., 1.],\n",
       "       [0., 1.],\n",
       "       [0., 1.],\n",
       "       [0., 1.],\n",
       "       [0., 1.],\n",
       "       [0., 1.],\n",
       "       [0., 1.],\n",
       "       [0., 1.],\n",
       "       [0., 1.],\n",
       "       [0., 1.],\n",
       "       [0., 1.],\n",
       "       [0., 1.],\n",
       "       [0., 1.],\n",
       "       [0., 1.],\n",
       "       [0., 1.],\n",
       "       [0., 1.],\n",
       "       [0., 1.],\n",
       "       [0., 1.],\n",
       "       [0., 1.],\n",
       "       [0., 1.],\n",
       "       [0., 1.],\n",
       "       [0., 1.],\n",
       "       [0., 1.],\n",
       "       [0., 1.],\n",
       "       [0., 1.],\n",
       "       [0., 1.],\n",
       "       [0., 1.],\n",
       "       [0., 1.],\n",
       "       [0., 1.],\n",
       "       [0., 1.],\n",
       "       [0., 1.],\n",
       "       [0., 1.],\n",
       "       [0., 1.],\n",
       "       [0., 1.],\n",
       "       [0., 1.],\n",
       "       [0., 1.],\n",
       "       [0., 1.],\n",
       "       [0., 1.],\n",
       "       [0., 1.],\n",
       "       [0., 1.],\n",
       "       [0., 1.],\n",
       "       [0., 1.],\n",
       "       [0., 1.],\n",
       "       [0., 1.],\n",
       "       [0., 1.],\n",
       "       [0., 1.],\n",
       "       [0., 1.],\n",
       "       [0., 1.],\n",
       "       [0., 1.],\n",
       "       [0., 1.],\n",
       "       [0., 1.],\n",
       "       [0., 1.],\n",
       "       [0., 1.],\n",
       "       [0., 1.],\n",
       "       [0., 1.],\n",
       "       [0., 1.],\n",
       "       [0., 1.]], dtype=float32)"
      ]
     },
     "execution_count": 12,
     "metadata": {},
     "output_type": "execute_result"
    }
   ],
   "source": [
    "# Reshaping DATA X_train\n",
    "\n",
    "X_train = d_train.transpose()\n",
    "X_train = np.array(X_train.values.tolist())\n",
    "X_train = X_train.reshape(342,1, 16384,1)\n",
    "\n",
    "\n",
    "# Reshaping DATA X_validation\n",
    "\n",
    "X_validation = d_val.transpose()\n",
    "X_validation = np.array(X_validation.values.tolist())\n",
    "X_validation = X_validation.reshape(114,1, 16384,1)\n",
    "\n",
    "# Reshaping DATA X_test\n",
    "\n",
    "X_test = d_test.transpose()\n",
    "X_test = np.array(X_test.values.tolist())\n",
    "X_test = X_test.reshape(114,1, 16384,1)\n",
    "\n",
    "# Y train assigning\n",
    "y_train = dy_tr\n",
    "y_train = to_categorical(y_train)\n",
    "\n",
    "# Y validation assigning\n",
    "y_validation = dy_val\n",
    "y_validation = to_categorical(y_validation)\n",
    "\n",
    "# Y test assigning\n",
    "y_test = dy_test\n",
    "y_test = to_categorical(y_test)\n",
    "\n",
    "y_test"
   ]
  },
  {
   "cell_type": "code",
   "execution_count": 13,
   "metadata": {},
   "outputs": [],
   "source": [
    "model = Sequential()\n",
    "\n",
    "# 1st conv layer\n",
    "model.add(Conv2D(32, (1, 2), activation='relu', input_shape=(1,16384,1)))\n",
    "model.add(MaxPooling2D((1, 2), strides=(1, 2), padding='same'))\n",
    "model.add(keras.layers.BatchNormalization())\n",
    "# 2nd conv layer\n",
    "model.add(keras.layers.Conv2D(32, (1, 2), activation='relu'))\n",
    "model.add(keras.layers.MaxPooling2D((1, 2), strides=(1, 2), padding='same'))\n",
    "model.add(keras.layers.BatchNormalization())\n",
    "\n",
    "# 3rd conv layer\n",
    "model.add(keras.layers.Conv2D(32, (1, 2), activation='relu'))\n",
    "model.add(keras.layers.MaxPooling2D((1, 2), strides=(1, 2), padding='same'))\n",
    "model.add(keras.layers.BatchNormalization())\n",
    "\n",
    "# flatten output and feed it into dense layer\n",
    "model.add(keras.layers.Flatten())\n",
    "model.add(keras.layers.Dense(80, activation='relu'))\n",
    "model.add(keras.layers.Dropout(0.3))\n",
    "\n",
    "# output layer\n",
    "model.add(keras.layers.Dense(2, activation='softmax'))"
   ]
  },
  {
   "cell_type": "code",
   "execution_count": 14,
   "metadata": {},
   "outputs": [
    {
     "name": "stdout",
     "output_type": "stream",
     "text": [
      "Model: \"sequential\"\n",
      "_________________________________________________________________\n",
      "Layer (type)                 Output Shape              Param #   \n",
      "=================================================================\n",
      "conv2d (Conv2D)              (None, 1, 16383, 32)      96        \n",
      "_________________________________________________________________\n",
      "max_pooling2d (MaxPooling2D) (None, 1, 8192, 32)       0         \n",
      "_________________________________________________________________\n",
      "batch_normalization (BatchNo (None, 1, 8192, 32)       128       \n",
      "_________________________________________________________________\n",
      "conv2d_1 (Conv2D)            (None, 1, 8191, 32)       2080      \n",
      "_________________________________________________________________\n",
      "max_pooling2d_1 (MaxPooling2 (None, 1, 4096, 32)       0         \n",
      "_________________________________________________________________\n",
      "batch_normalization_1 (Batch (None, 1, 4096, 32)       128       \n",
      "_________________________________________________________________\n",
      "conv2d_2 (Conv2D)            (None, 1, 4095, 32)       2080      \n",
      "_________________________________________________________________\n",
      "max_pooling2d_2 (MaxPooling2 (None, 1, 2048, 32)       0         \n",
      "_________________________________________________________________\n",
      "batch_normalization_2 (Batch (None, 1, 2048, 32)       128       \n",
      "_________________________________________________________________\n",
      "flatten (Flatten)            (None, 65536)             0         \n",
      "_________________________________________________________________\n",
      "dense (Dense)                (None, 80)                5242960   \n",
      "_________________________________________________________________\n",
      "dropout (Dropout)            (None, 80)                0         \n",
      "_________________________________________________________________\n",
      "dense_1 (Dense)              (None, 2)                 162       \n",
      "=================================================================\n",
      "Total params: 5,247,762\n",
      "Trainable params: 5,247,570\n",
      "Non-trainable params: 192\n",
      "_________________________________________________________________\n"
     ]
    }
   ],
   "source": [
    "optimiser = keras.optimizers.Adam(learning_rate=0.0001)\n",
    "model.compile(optimizer=optimiser,\n",
    "                  loss='categorical_crossentropy',\n",
    "                  metrics=['accuracy'])\n",
    "\n",
    "model.summary()"
   ]
  },
  {
   "cell_type": "code",
   "execution_count": 15,
   "metadata": {},
   "outputs": [
    {
     "name": "stdout",
     "output_type": "stream",
     "text": [
      "Epoch 1/10\n",
      "69/69 [==============================] - 30s 283ms/step - loss: 1.3782 - accuracy: 0.6989 - val_loss: 0.4257 - val_accuracy: 0.7982\n",
      "Epoch 2/10\n",
      "69/69 [==============================] - 17s 238ms/step - loss: 0.2637 - accuracy: 0.9303 - val_loss: 0.3900 - val_accuracy: 0.8772\n",
      "Epoch 3/10\n",
      "69/69 [==============================] - 16s 229ms/step - loss: 0.1038 - accuracy: 0.9638 - val_loss: 0.2424 - val_accuracy: 0.9123\n",
      "Epoch 4/10\n",
      "69/69 [==============================] - 17s 240ms/step - loss: 0.0768 - accuracy: 0.9607 - val_loss: 0.2699 - val_accuracy: 0.9123\n",
      "Epoch 5/10\n",
      "69/69 [==============================] - 19s 275ms/step - loss: 0.0830 - accuracy: 0.9727 - val_loss: 0.4840 - val_accuracy: 0.7982\n",
      "Epoch 6/10\n",
      "69/69 [==============================] - 16s 235ms/step - loss: 0.1135 - accuracy: 0.9727 - val_loss: 0.2154 - val_accuracy: 0.9035\n",
      "Epoch 7/10\n",
      "69/69 [==============================] - 18s 259ms/step - loss: 0.0538 - accuracy: 0.9835 - val_loss: 0.0561 - val_accuracy: 0.9737\n",
      "Epoch 8/10\n",
      "69/69 [==============================] - 16s 239ms/step - loss: 0.0522 - accuracy: 0.9816 - val_loss: 0.0496 - val_accuracy: 0.9649\n",
      "Epoch 9/10\n",
      "69/69 [==============================] - 19s 279ms/step - loss: 0.0090 - accuracy: 0.9955 - val_loss: 0.0181 - val_accuracy: 0.9912\n",
      "Epoch 10/10\n",
      "69/69 [==============================] - 17s 246ms/step - loss: 0.0042 - accuracy: 0.9988 - val_loss: 0.1293 - val_accuracy: 0.9649\n"
     ]
    }
   ],
   "source": [
    "history = model.fit(X_train, y_train, validation_data=(X_validation, y_validation), batch_size=5, epochs=10)"
   ]
  },
  {
   "cell_type": "code",
   "execution_count": 11,
   "metadata": {},
   "outputs": [
    {
     "data": {
      "image/png": "[encoded data removed]",
      "text/plain": [
       "<Figure size 1008x432 with 2 Axes>"
      ]
     },
     "metadata": {
      "needs_background": "light"
     },
     "output_type": "display_data"
    }
   ],
   "source": [
    "## Ploting\n",
    "\n",
    "history_dict = history.history\n",
    "loss_values = history_dict['loss']\n",
    "val_loss_values = history_dict['val_loss']\n",
    "accuracy = history_dict['accuracy']\n",
    "val_accuracy = history_dict['val_accuracy']\n",
    "  \n",
    "epochs = range(1, len(loss_values) + 1)\n",
    "fig, ax = plt.subplots(1, 2, figsize=(14, 6))\n",
    "#\n",
    "# Plot the model accuracy vs Epochs\n",
    "#\n",
    "ax[0].plot(epochs, accuracy, 'bo', label='Training accuracy')\n",
    "ax[0].plot(epochs, val_accuracy, 'r', label='Validation accuracy')\n",
    "ax[0].set_title('Training &amp; Validation Accuracy', fontsize=16)\n",
    "ax[0].set_xlabel('Epochs', fontsize=16)\n",
    "ax[0].set_ylabel('Accuracy', fontsize=16)\n",
    "ax[0].legend()\n",
    "#\n",
    "# Plot the loss vs Epochs\n",
    "#\n",
    "ax[1].plot(epochs, loss_values, 'bx', label='Training loss') \n",
    "ax[1].plot(epochs, val_loss_values, 'r', label='Validation loss')\n",
    "ax[1].set_title('Training &amp; Validation Loss', fontsize=16)\n",
    "ax[1].set_xlabel('Epochs', fontsize=16)\n",
    "ax[1].set_ylabel('Loss', fontsize=16)\n",
    "ax[1].legend()\n",
    "\n",
    "plt.show()"
   ]
  },
  {
   "cell_type": "markdown",
   "metadata": {},
   "source": [
    "Result\n",
    "\n",
    "After training the model with X_train and X_Validation on 10 epochs, and with a batch_size equal to 5, the model gives a final accuracy of : 0.9912280, this result are based on a strange data set \"X_test\" to the training set, and the loss value reached :0.0295263, in the trainnig process the model took on each epochs an average of 18 second/step, starting with a Training loss: 1.3782, and Validation loss: 0.4257, then the Training loss droped to 0.2637 and continued falctuation between 0.1135 and 0.05 until stabilize on 0.0042, meanwhile the Validatin loss was bigger in the first 6 epochs then droped to 0.0496, as for Training accuracy start mediocre Training accuracy: 0.6989 then elevating to 0.9303 and ending 0.9988, in the other hand Validation accuracy took a slower development 0.7982 and ending by 0.9649 as shown in th plot below.\n",
    "To epitomize the final accuracy and Training accuracy, Validation accuracy are contiguous so we can deduce that our model can sustaine a real world data in other words is scalable."
   ]
  },
  {
   "cell_type": "code",
   "execution_count": 12,
   "metadata": {},
   "outputs": [
    {
     "name": "stdout",
     "output_type": "stream",
     "text": [
      "4/4 [==============================] - 1s 163ms/step - loss: 0.0295 - accuracy: 0.9912\n",
      "test_acc: 0.9912280440330505\n",
      "test_loss: 0.029526393860578537\n"
     ]
    }
   ],
   "source": [
    "test_loss, test_acc = model.evaluate(X_test, y_test)\n",
    "\n",
    "print('test_acc:',test_acc )\n",
    "print('test_loss:',test_loss )"
   ]
  },
  {
   "cell_type": "code",
   "execution_count": 19,
   "metadata": {},
   "outputs": [],
   "source": [
    "def predict_classes(self, x, batch_size=32, verbose=1):\n",
    "    '''Generate class predictions for the input samples\n",
    "    batch by batch.\n",
    "    # Arguments\n",
    "        x: input data, as a Numpy array or list of Numpy arrays\n",
    "            (if the model has multiple inputs).\n",
    "        batch_size: integer.\n",
    "        verbose: verbosity mode, 0 or 1.\n",
    "    # Returns\n",
    "        A numpy array of class predictions.\n",
    "    '''\n",
    "    proba = self.predict(x, batch_size=batch_size, verbose=verbose)\n",
    "    if proba.shape[-1] > 1:\n",
    "        return proba.argmax(axis=-1)\n",
    "    else:\n",
    "        return (proba > 0.5).astype('int32')"
   ]
  },
  {
   "cell_type": "code",
   "execution_count": 112,
   "metadata": {},
   "outputs": [
    {
     "name": "stdout",
     "output_type": "stream",
     "text": [
      "4/4 [==============================] - 1s 164ms/step\n",
      "FP :  [0 5]\n",
      "FN :  [5 0]\n",
      "TP :  [43 66]\n",
      "TN :  [66 43]\n",
      "TPR :  [0.89583333 1.        ]\n",
      "TNR :  [1.         0.89583333]\n",
      "PPV :  [1.         0.92957746]\n",
      "NPV :  [0.92957746 1.        ]\n",
      "FPR :  [0.         0.10416667]\n",
      "FNR :  [0.10416667 0.        ]\n",
      "FDR :  [0.         0.07042254]\n",
      "ACC :  [0.95614035 0.95614035]\n",
      "F1 Score :  0.9635036496350364\n",
      "4/4 [==============================] - 1s 268ms/step\n",
      "4/4 [==============================] - 1s 289ms/step\n",
      "1/1 [==============================] - 0s 31ms/step\n",
      "1/1 [==============================] - 0s 135ms/step\n",
      "4/4 [==============================] - 1s 222ms/step\n",
      "1/1 [==============================] - 0s 127ms/step\n",
      "4/4 [==============================] - 1s 201ms/step\n",
      "1/1 [==============================] - 0s 36ms/step\n",
      "4/4 [==============================] - 1s 217ms/step\n",
      "1/1 [==============================] - 0s 102ms/step\n"
     ]
    }
   ],
   "source": [
    "# Rounding predictions because of multiclasses\n",
    "rounded_predictions = predict_classes(model, X_test);\n",
    "rounded_labels=np.argmax(y_test, axis=1)\n",
    "cm = confusion_matrix(rounded_labels, rounded_predictions)\n",
    "\n",
    "# FP, FN, TP, TN\n",
    "FP = cm.sum(axis=0) - np.diag(cm)  \n",
    "print(\"FP : \",FP)\n",
    "FN = cm.sum(axis=1) - np.diag(cm)\n",
    "print(\"FN : \",FN)\n",
    "TP = np.diag(cm)\n",
    "print(\"TP : \",TP)\n",
    "TN = cm.sum() - (FP + FN + TP)\n",
    "print(\"TN : \",TN)\n",
    "\n",
    "# Sensitivity, hit rate, recall, or true positive rate\n",
    "TPR = TP/(TP+FN)\n",
    "print(\"TPR : \",TPR)\n",
    "\n",
    "# Specificity or true negative rate\n",
    "TNR = TN/(TN+FP) \n",
    "print(\"TNR : \",TNR)\n",
    "\n",
    "# Precision or positive predictive value\n",
    "PPV = TP/(TP+FP)\n",
    "print(\"PPV : \", PPV)\n",
    "\n",
    "# Negative predictive value\n",
    "NPV = TN/(TN+FN)\n",
    "print(\"NPV : \",NPV)\n",
    "\n",
    "# Fall out or false positive rate\n",
    "FPR = FP/(FP+TN)\n",
    "print(\"FPR : \",FPR)\n",
    "\n",
    "# False negative rate\n",
    "FNR = FN/(TP+FN)\n",
    "print(\"FNR : \",FNR)\n",
    "\n",
    "# False discovery rate\n",
    "FDR = FP/(TP+FP)\n",
    "print(\"FDR : \",FDR)\n",
    "\n",
    "# Overall accuracy\n",
    "ACC = (TP+TN)/(TP+FP+FN+TN)\n",
    "print(\"ACC : \",ACC)\n",
    "\n",
    "# F1 Score\n",
    "F1 = f1_score(rounded_labels, rounded_predictions)\n",
    "print(\"F1 Score : \", F1)"
   ]
  },
  {
   "cell_type": "code",
   "execution_count": 46,
   "metadata": {},
   "outputs": [
    {
     "name": "stdout",
     "output_type": "stream",
     "text": [
      "AUC: 0.99\n"
     ]
    }
   ],
   "source": [
    "def plot_roc_curve(fpr, tpr):\n",
    "    plt.plot(fpr, tpr, color='orange', label='ROC')\n",
    "    plt.plot([0, 1], [0, 1], color='darkblue', linestyle='--')\n",
    "    plt.xlabel('False Positive Rate')\n",
    "    plt.ylabel('True Positive Rate')\n",
    "    plt.title('Receiver Operating Characteristic (ROC) Curve')\n",
    "    plt.legend()\n",
    "    plt.show()\n",
    "\n",
    "auc = roc_auc_score(rounded_labels, rounded_predictions)\n",
    "print('AUC: %.2f' % auc)"
   ]
  },
  {
   "cell_type": "code",
   "execution_count": 47,
   "metadata": {},
   "outputs": [
    {
     "data": {
      "image/png": "[encoded data removed]",
      "text/plain": [
       "<Figure size 432x288 with 1 Axes>"
      ]
     },
     "metadata": {
      "needs_background": "light"
     },
     "output_type": "display_data"
    }
   ],
   "source": [
    "plot_roc_curve(FPR, TPR)"
   ]
  },
  {
   "cell_type": "markdown",
   "metadata": {},
   "source": [
    "## For more information about ROC \n",
    "\n",
    "https://stackabuse.com/understanding-roc-curves-with-python/"
   ]
  },
  {
   "cell_type": "markdown",
   "metadata": {},
   "source": [
    "----\n",
    "# Anvil prep\n",
    "-----"
   ]
  },
  {
   "cell_type": "code",
   "execution_count": 1,
   "metadata": {},
   "outputs": [
    {
     "name": "stdout",
     "output_type": "stream",
     "text": [
      "Collecting anvil-uplink\n",
      "  Downloading anvil_uplink-0.3.36-py2.py3-none-any.whl (61 kB)\n",
      "Collecting argparse\n",
      "  Downloading argparse-1.4.0-py2.py3-none-any.whl (23 kB)\n",
      "Requirement already satisfied: future in c:\\programdata\\anaconda3\\lib\\site-packages (from anvil-uplink) (0.18.2)\n",
      "Collecting ws4py\n",
      "  Downloading ws4py-0.5.1.tar.gz (51 kB)\n",
      "Requirement already satisfied: six in c:\\programdata\\anaconda3\\lib\\site-packages (from anvil-uplink) (1.15.0)\n",
      "Building wheels for collected packages: ws4py\n",
      "  Building wheel for ws4py (setup.py): started\n",
      "  Building wheel for ws4py (setup.py): finished with status 'done'\n",
      "  Created wheel for ws4py: filename=ws4py-0.5.1-py3-none-any.whl size=45215 sha256=1e2ff8de99cdfbd6971f67ad5ea2b9e793231476e580eb0d6d3a1e79a5399ae7\n",
      "  Stored in directory: c:\\users\\zohair\\appdata\\local\\pip\\cache\\wheels\\ea\\f9\\a1\\34e2943cce3cf7daca304bfc35e91280694ced9194a487ce2f\n",
      "Successfully built ws4py\n",
      "Installing collected packages: argparse, ws4py, anvil-uplink\n",
      "Note: you may need to restart the kernel to use updated packages.\n"
     ]
    },
    {
     "name": "stderr",
     "output_type": "stream",
     "text": [
      "ERROR: Could not install packages due to an EnvironmentError: [WinError 5] Accès refusé: 'C:\\\\ProgramData\\\\Anaconda3\\\\Lib\\\\site-packages\\\\tables\\\\__init__.py'\n",
      "Consider using the `--user` option or check the permissions.\n",
      "\n"
     ]
    }
   ],
   "source": [
    "pip install anvil-uplink"
   ]
  },
  {
   "cell_type": "code",
   "execution_count": 99,
   "metadata": {},
   "outputs": [
    {
     "data": {
      "image/png": "[encoded data removed]",
      "text/plain": [
       "<Figure size 432x288 with 1 Axes>"
      ]
     },
     "metadata": {
      "needs_background": "light"
     },
     "output_type": "display_data"
    }
   ],
   "source": [
    "import anvil.server\n",
    "import anvil.mpl_util\n",
    "\n",
    "anvil.server.connect(\"IENQAFSXPANG77AFDTYTC4E2-5XNVA4KIZCRITORA\")"
   ]
  },
  {
   "cell_type": "code",
   "execution_count": 93,
   "metadata": {},
   "outputs": [],
   "source": [
    "@anvil.server.callable\n",
    "def roc_elem(test_id):\n",
    "    \n",
    "    rounded_predictions = predict_classes(model, X_test);\n",
    "    rounded_labels=np.argmax(y_test, axis=1)\n",
    "    cm = confusion_matrix(rounded_labels, rounded_predictions)\n",
    "\n",
    "    # FP, FN, TP, TN\n",
    "    FP = cm.sum(axis=0) - np.diag(cm)  \n",
    "    \n",
    "    FN = cm.sum(axis=1) - np.diag(cm)\n",
    "    \n",
    "    TP = np.diag(cm)\n",
    "    \n",
    "    TN = cm.sum() - (FP + FN + TP)\n",
    "\n",
    "    TPR = TP/(TP+FN)\n",
    "\n",
    "    TNR = TN/(TN+FP) \n",
    "\n",
    "    NPV = TN/(TN+FN)\n",
    "\n",
    "    FDR = FP/(TP+FP)\n",
    "\n",
    "    ACC = (TP+TN)/(TP+FP+FN+TN)\n",
    "\n",
    "    F1 = f1_score(rounded_labels, rounded_predictions)\n",
    "    \n",
    "    return TP, TN, FP, FN, NPV, TNR, FDR, TPR, F1, ACC"
   ]
  },
  {
   "cell_type": "code",
   "execution_count": 94,
   "metadata": {},
   "outputs": [],
   "source": [
    "@anvil.server.callable\n",
    "def obj_detect(test_id):\n",
    "    rounded_predictions = predict_classes(model, X_test[test_id].reshape(1,1,16384,1));\n",
    "    return rounded_predictions[0] + 1\n",
    "    "
   ]
  },
  {
   "cell_type": "code",
   "execution_count": 60,
   "metadata": {},
   "outputs": [
    {
     "data": {
      "text/plain": [
       "(114, 1, 16384, 1)"
      ]
     },
     "execution_count": 60,
     "metadata": {},
     "output_type": "execute_result"
    }
   ],
   "source": [
    "X_test.shape"
   ]
  },
  {
   "cell_type": "code",
   "execution_count": 110,
   "metadata": {},
   "outputs": [
    {
     "data": {
      "image/png": "[encoded data removed]",
      "text/plain": [
       "<Figure size 432x288 with 1 Axes>"
      ]
     },
     "metadata": {
      "needs_background": "light"
     },
     "output_type": "display_data"
    },
    {
     "name": "stdout",
     "output_type": "stream",
     "text": [
      "4/4 [==============================] - 1s 204ms/step\n",
      "1/1 [==============================] - 0s 43ms/step\n"
     ]
    }
   ],
   "source": [
    "import pandas as pd\n",
    "import matplotlib.pyplot as plt\n",
    "import matplotlib.mlab as mlab\n",
    "import numpy as np\n",
    "\n",
    "@anvil.server.callable\n",
    "def obj_plot(test_id):\n",
    "    plt.plot(X_test[test_id].reshape(16384, 1))\n",
    "    return anvil.mpl_util.plot_image()\n",
    "   "
   ]
  },
  {
   "cell_type": "code",
   "execution_count": 89,
   "metadata": {},
   "outputs": [
    {
     "data": {
      "text/plain": [
       "[<matplotlib.lines.Line2D at 0x23c1f983c10>]"
      ]
     },
     "execution_count": 89,
     "metadata": {},
     "output_type": "execute_result"
    },
    {
     "data": {
      "image/png": "[encoded data removed]",
      "text/plain": [
       "<Figure size 432x288 with 1 Axes>"
      ]
     },
     "metadata": {
      "needs_background": "light"
     },
     "output_type": "display_data"
    }
   ],
   "source": [
    "plt.plot(X_test[0].reshape(16384, 1))"
   ]
  },
  {
   "cell_type": "code",
   "execution_count": null,
   "metadata": {},
   "outputs": [],
   "source": []
  }
 ],
 "metadata": {
  "kernelspec": {
   "display_name": "Python 3",
   "language": "python",
   "name": "python3"
  },
  "language_info": {
   "codemirror_mode": {
    "name": "ipython",
    "version": 3
   },
   "file_extension": ".py",
   "mimetype": "text/x-python",
   "name": "python",
   "nbconvert_exporter": "python",
   "pygments_lexer": "ipython3",
   "version": "3.8.5"
  }
 },
 "nbformat": 4,
 "nbformat_minor": 2
}
